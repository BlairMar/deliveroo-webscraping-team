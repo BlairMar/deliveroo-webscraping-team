{
 "cells": [
  {
   "cell_type": "markdown",
   "metadata": {},
   "source": [
    "# Deliveroo Core Web Scraper\n",
    "\n",
    "From each page should scrape: restaurant img, rating, name, cuisine, opening, dietary, distance, delivery price\n"
   ]
  },
  {
   "cell_type": "code",
   "execution_count": 2,
   "metadata": {},
   "outputs": [],
   "source": [
    "from selenium import webdriver\n",
    "from selenium.webdriver.common.by import By #importing necessary modules.\n",
    "from time import sleep\n",
    "import requests"
   ]
  },
  {
   "cell_type": "markdown",
   "metadata": {},
   "source": [
    "## First Draft of Web Scraper (functions only)\n",
    "\n",
    "The first run of the web scraper is built with only the new implementation in mind and is not built within the class.  \n",
    "\n",
    "After there's a working version of the new implementation, it will be added to the class."
   ]
  },
  {
   "cell_type": "code",
   "execution_count": 79,
   "metadata": {},
   "outputs": [],
   "source": [
    "\n",
    "driver = webdriver.Chrome()\n",
    "driver.get(\"https://deliveroo.co.uk/menu/london/victoria/joe-and-the-juice-westminster?day=today&geohash=gcpuuwmssw3u&time=ASAP\")"
   ]
  },
  {
   "cell_type": "code",
   "execution_count": 86,
   "metadata": {},
   "outputs": [
    {
     "name": "stdout",
     "output_type": "stream",
     "text": [
      "[['HomeVictoriaJoe & The Juice', 'Joe & The Juice - Westminster', '4.9(500+ ratings)', 'Juices', 'Salads', 'Healthy', 'Sandwiches', 'Gluten Free', 'Vegan Friendly', 'Breakfast', 'Vegetarian', 'Acai', 'Open until 20:00', 'Zig Zag Building, Unit 4, 70 Victoria Street, London, SW1E6SQ', 'View map', 'Order now for the chance to win Free Joe & The Juice for a Year. *One', 'prize to be won. Value £1040, based on one order per week of £20. GB', 'Meal Deals', 'Restaurant info', 'Map, allergens and hygiene rating']]\n"
     ]
    }
   ],
   "source": [
    "Summary_info = driver.find_elements(By.XPATH, '//*[@id=\"app-element\"]/div/div[2]/div[1]/div[2]/div/div[1]')\n",
    "\n",
    "data = []\n",
    "for info in Summary_info: #Looping over list of summary information about the restaraunt.     \n",
    "    \n",
    "    text = info.text\n",
    "    fin = text.splitlines()\n",
    "    data.append(fin) #splits the string at new lines and stores as a list. \n",
    "    #at some point, we need to implement storing and organising the data in dictionaries.\n",
    "print(data)"
   ]
  },
  {
   "cell_type": "markdown",
   "metadata": {},
   "source": [
    "## Second draft (Class)\n",
    "\n",
    "Following the implementation of a new feature in the first draft, features are added here to the main class. "
   ]
  },
  {
   "cell_type": "code",
   "execution_count": 87,
   "metadata": {},
   "outputs": [
    {
     "name": "stdout",
     "output_type": "stream",
     "text": [
      "[['HomeVictoriaJoe & The Juice', 'Joe & The Juice - Westminster', '4.9(500+ ratings)', 'Juices', 'Salads', 'Healthy', 'Sandwiches', 'Gluten Free', 'Vegan Friendly', 'Breakfast', 'Vegetarian', 'Acai', 'Open until 20:00', 'Zig Zag Building, Unit 4, 70 Victoria Street, London, SW1E6SQ', 'View map', 'Order now for the chance to win Free Joe & The Juice for a Year. *One', 'prize to be won. Value £1040, based on one order per week of £20. GB', 'Meal Deals', 'Restaurant info', 'Map, allergens and hygiene rating']]\n"
     ]
    }
   ],
   "source": [
    "\n",
    "class DeliverooScraper:\n",
    "    \n",
    "    def __init__(self) -> None: #initialising Selenium and starting the webdriver.\n",
    "        self.driver = webdriver.Chrome()\n",
    "    \n",
    "    def scrape(self):\n",
    "        #launches web browser and calls the next method. \n",
    "        self.driver.get(\n",
    "        \"https://deliveroo.co.uk/menu/london/victoria/joe-and-the-juice-westminster?day=today&geohash=gcpuuwmssw3u&time=ASAP\")\n",
    "\n",
    "\n",
    "    def getSummary(self):\n",
    "        self.Summary_info = driver.find_elements(By.XPATH, '//*[@id=\"app-element\"]/div/div[2]/div[1]/div[2]/div/div[1]')\n",
    "\n",
    "        data = []\n",
    "        for info in self.Summary_info: #Looping over list of summary information about the restaraunt.     \n",
    "            \n",
    "            text = info.text\n",
    "            fin = text.splitlines()\n",
    "            data.append(fin) #splits the string at new lines and stores as a list. \n",
    "                            #at some point, we need to implement storing and organising the data in dictionaries.\n",
    "        print(data)\n",
    "        \n",
    "\n",
    "\n",
    "Scraper = DeliverooScraper()\n",
    "        \n",
    "Scraper.scrape()\n",
    "Scraper.getSummary()\n",
    "\n"
   ]
  },
  {
   "cell_type": "code",
   "execution_count": null,
   "metadata": {},
   "outputs": [],
   "source": []
  }
 ],
 "metadata": {
  "interpreter": {
   "hash": "3ee29c714df3265524192047a9c1ed88540f892048242636a710e8ef53fb505b"
  },
  "kernelspec": {
   "display_name": "Python 3.9.7 64-bit ('base': conda)",
   "name": "python3"
  },
  "language_info": {
   "codemirror_mode": {
    "name": "ipython",
    "version": 3
   },
   "file_extension": ".py",
   "mimetype": "text/x-python",
   "name": "python",
   "nbconvert_exporter": "python",
   "pygments_lexer": "ipython3",
   "version": "3.9.7"
  },
  "orig_nbformat": 4
 },
 "nbformat": 4,
 "nbformat_minor": 2
}
