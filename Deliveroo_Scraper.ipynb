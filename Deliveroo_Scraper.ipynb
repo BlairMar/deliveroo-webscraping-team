{
 "cells": [
  {
   "cell_type": "markdown",
   "metadata": {},
   "source": [
    "# Deliveroo Core Web Scraper\n",
    "\n",
    "From each page should scrape: restaurant img, rating, name, cuisine, opening, dietary, distance, delivery price\n"
   ]
  },
  {
   "cell_type": "code",
   "execution_count": 9,
   "metadata": {},
   "outputs": [],
   "source": [
    "from selenium import webdriver\n",
    "from selenium.webdriver.common.by import By #importing necessary modules.\n",
    "from time import sleep\n",
    "import requests"
   ]
  },
  {
   "cell_type": "markdown",
   "metadata": {},
   "source": [
    "## First Draft of Web Scraper (functions only)\n",
    "\n",
    "The first run of the web scraper is built with only the new implementation in mind and is not built within the class.  \n",
    "\n",
    "After there's a working version of the new implementation, it will be added to the class."
   ]
  },
  {
   "cell_type": "code",
   "execution_count": 11,
   "metadata": {},
   "outputs": [],
   "source": [
    "\n",
    "driver = webdriver.Chrome()\n",
    "driver.get(\"https://deliveroo.co.uk/menu/london/fulham/mamino-fulham?day=today&geohash=gcpuuw8wdq1m&time=ASAP\")\n",
    "#https://deliveroo.co.uk/menu/london/victoria/joe-and-the-juice-westminster?day=today&geohash=gcpuuwmssw3u&time=ASAP"
   ]
  },
  {
   "cell_type": "code",
   "execution_count": 12,
   "metadata": {},
   "outputs": [
    {
     "name": "stdout",
     "output_type": "stream",
     "text": [
      "['HomeFulhamMamino', 'Mamino - Fulham', '4.4(500+ ratings)', 'Pasta', 'Dessert', 'Vegan Friendly', 'Gluten Free', 'Mediterranean', 'Italian', 'Drinks', 'Open until 23:59', \"One KCN, Unit 5, The Talina Centre, 23a Bagley's Lane, London, SW62BW\", 'View map', 'Restaurant info', 'Map, allergens and hygiene rating', '50% off entire menu', 'T&Cs apply']\n"
     ]
    },
    {
     "data": {
      "text/plain": [
       "'https://rs-menus-api.roocdn.com/images/3c465ea8-58c3-4263-9bd6-f3a4ada66738/image.jpeg?width=319&height=160&auto=webp&format=jpg&fit=crop&v='"
      ]
     },
     "execution_count": 12,
     "metadata": {},
     "output_type": "execute_result"
    }
   ],
   "source": [
    "Summary_info = driver.find_elements(By.XPATH, '//*[@id=\"app-element\"]/div/div[2]/div[1]/div[2]/div/div[1]')\n",
    "\n",
    "\n",
    "def Summary_Data():\n",
    "    for info in Summary_info: #Looping over list of summary information about the restaraunt.     \n",
    "        text = info.text        \n",
    "        data = text.splitlines()\n",
    "    # splits the string at new lines and stores as a list. \n",
    "    #at some point, we need to implement storing and organising the data in dictionaries.\n",
    "\n",
    "    return(data) # at the moment, returns a list of all the data in the summary information. \n",
    "\n",
    "Image_info = driver.find_elements(By.XPATH,'//*[@id=\"app-element\"]/div/div[2]/div[1]/div[2]/div/div[2]/div[1]/div/div')\n",
    "\n",
    "def Image_Download():\n",
    "    txt = Image_info[0].get_attribute(\"style\")\n",
    "    src = txt.split('\"')\n",
    "    url = src[1]\n",
    "    path = f'{Summary_Data()[0]}.jpg'\n",
    "    img_data = requests.get(url).content\n",
    "    with open(path, 'wb') as handler:\n",
    "         handler.write(img_data)\n",
    "    \n",
    "    return(url)    \n",
    "\n",
    "print(Summary_Data())\n",
    "Image_Download()\n",
    "\n"
   ]
  },
  {
   "cell_type": "markdown",
   "metadata": {},
   "source": [
    "## Second draft (Class)\n",
    "\n",
    "Following the implementation of a new feature in the first draft, features are added here to the main class. "
   ]
  },
  {
   "cell_type": "code",
   "execution_count": 63,
   "metadata": {},
   "outputs": [
    {
     "name": "stdout",
     "output_type": "stream",
     "text": [
      "['HomeFulhamMamino', 'Mamino - Fulham', '4.4(500+ ratings)', 'Pasta', 'Dessert', 'Vegan Friendly', 'Gluten Free', 'Mediterranean', 'Italian', 'Drinks', 'Open until 23:59', \"One KCN, Unit 5, The Talina Centre, 23a Bagley's Lane, London, SW62BW\", 'View map', 'Restaurant info', 'Map, allergens and hygiene rating', '50% off entire menu', 'T&Cs apply']\n"
     ]
    },
    {
     "data": {
      "text/plain": [
       "'https://rs-menus-api.roocdn.com/images/3c465ea8-58c3-4263-9bd6-f3a4ada66738/image.jpeg?width=319&height=160&auto=webp&format=jpg&fit=crop&v='"
      ]
     },
     "execution_count": 63,
     "metadata": {},
     "output_type": "execute_result"
    }
   ],
   "source": [
    "\n",
    "\n",
    "class DeliverooScraper:\n",
    "    data = []\n",
    "\n",
    "    def __init__(self) -> None: #initialising Selenium and starting the webdriver.\n",
    "        self.driver = webdriver.Chrome()\n",
    "    \n",
    "    def scrape(self):\n",
    "        #launches web browser and calls the next method. \n",
    "        self.driver.get(\n",
    "        \"https://deliveroo.co.uk/menu/london/fulham/mamino-fulham?day=today&geohash=gcpuuw8wdq1m&time=ASAP\")\n",
    "        \n",
    "\n",
    "\n",
    "    def getSummary(self):\n",
    "        Summary_info = self.driver.find_elements(By.XPATH, '//*[@id=\"app-element\"]/div/div[2]/div[1]/div[2]/div/div[1]')\n",
    "\n",
    "        for info in Summary_info: #Looping over list of summary information about the restaraunt.     \n",
    "            \n",
    "            text = info.text\n",
    "            DeliverooScraper.data = text.splitlines()\n",
    "                             #splits the string at new lines and stores as a list. \n",
    "                            #at some point, we need to implement storing and organising the data in dictionaries.\n",
    "      \n",
    "\n",
    "        return DeliverooScraper.data #defined as a global variable. \n",
    "\n",
    "    \n",
    "    def getPicture(self):\n",
    "        Image_info = self.driver.find_elements(By.XPATH,'//*[@id=\"app-element\"]/div/div[2]/div[1]/div[2]/div/div[2]/div[1]/div/div')\n",
    "        #Accessing the image info using XPATH. Probably a cleaner way of doing this. \n",
    "\n",
    "        txt = Image_info[0].get_attribute(\"style\")\n",
    "        src = txt.split('\"') #Only need the url so the code splits string at \". \n",
    "        url = src[1]\n",
    "        name = DeliverooScraper.data[0]\n",
    "        path = f'{name}.jpg' #Path is created from the first element of the list returned by \n",
    "                                          #Summary Data. \n",
    "        \n",
    "        #Downloading image from url. \n",
    "        image = requests.get(url).content\n",
    "        with open(path, 'wb') as handler:\n",
    "         handler.write(image)\n",
    "    \n",
    "        return(url)    \n",
    "\n",
    "\n",
    "Scraper = DeliverooScraper()\n",
    "        \n",
    "Scraper.scrape()\n",
    "\n",
    "print(Scraper.getSummary())\n",
    "\n",
    "Scraper.getPicture()"
   ]
  },
  {
   "cell_type": "code",
   "execution_count": 57,
   "metadata": {},
   "outputs": [
    {
     "data": {
      "text/plain": [
       "[1,\n",
       " ['HomeFulhamMamino',\n",
       "  'Mamino - Fulham',\n",
       "  '4.4(500+ ratings)',\n",
       "  'Pasta',\n",
       "  'Dessert',\n",
       "  'Vegan Friendly',\n",
       "  'Gluten Free',\n",
       "  'Mediterranean',\n",
       "  'Italian',\n",
       "  'Drinks',\n",
       "  'Open until 23:59',\n",
       "  \"One KCN, Unit 5, The Talina Centre, 23a Bagley's Lane, London, SW62BW\",\n",
       "  'View map',\n",
       "  'Restaurant info',\n",
       "  'Map, allergens and hygiene rating',\n",
       "  '50% off entire menu',\n",
       "  'T&Cs apply']]"
      ]
     },
     "execution_count": 57,
     "metadata": {},
     "output_type": "execute_result"
    }
   ],
   "source": [
    "\n"
   ]
  },
  {
   "cell_type": "code",
   "execution_count": 58,
   "metadata": {},
   "outputs": [
    {
     "data": {
      "text/plain": [
       "'https://rs-menus-api.roocdn.com/images/3c465ea8-58c3-4263-9bd6-f3a4ada66738/image.jpeg?width=319&height=160&auto=webp&format=jpg&fit=crop&v='"
      ]
     },
     "execution_count": 58,
     "metadata": {},
     "output_type": "execute_result"
    }
   ],
   "source": []
  },
  {
   "cell_type": "code",
   "execution_count": null,
   "metadata": {},
   "outputs": [],
   "source": []
  }
 ],
 "metadata": {
  "interpreter": {
   "hash": "3ee29c714df3265524192047a9c1ed88540f892048242636a710e8ef53fb505b"
  },
  "kernelspec": {
   "display_name": "Python 3.9.7 64-bit ('base': conda)",
   "name": "python3"
  },
  "language_info": {
   "codemirror_mode": {
    "name": "ipython",
    "version": 3
   },
   "file_extension": ".py",
   "mimetype": "text/x-python",
   "name": "python",
   "nbconvert_exporter": "python",
   "pygments_lexer": "ipython3",
   "version": "3.9.7"
  },
  "orig_nbformat": 4
 },
 "nbformat": 4,
 "nbformat_minor": 2
}
