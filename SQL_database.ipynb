{
 "cells": [
  {
   "cell_type": "markdown",
   "metadata": {},
   "source": [
    "# SQL Database for Deliveroo Scraper"
   ]
  },
  {
   "cell_type": "code",
   "execution_count": 22,
   "metadata": {},
   "outputs": [
    {
     "name": "stdout",
     "output_type": "stream",
     "text": [
      "                                                tags  \\\n",
      "0  [20 - 35 min, Grocery, Alcohol, 4.9 Excellent,...   \n",
      "1  [British, Vegan Friendly, Vegetarian, Gluten F...   \n",
      "\n",
      "                             name  \\\n",
      "0                  Nisa - Beeston   \n",
      "1  Spuds and Bros Poutine - Leeds   \n",
      "\n",
      "                                          image_path  \\\n",
      "0  data/LS12 5NJ/images/c406a949-7b70-4695-988d-1...   \n",
      "1  data/LS12 5NJ/images/cfded7d3-1a55-44ef-93ff-4...   \n",
      "\n",
      "                                   uuid  \\\n",
      "0  cf85854b-f9d7-4339-aa2f-e96498452ede   \n",
      "1  cdd7fd45-932a-4c27-8bba-3cce0d5c2d05   \n",
      "\n",
      "                                                 url  rating  \n",
      "0  https://deliveroo.co.uk/menu/leeds/central-bee...     NaN  \n",
      "1  https://deliveroo.co.uk/menu/leeds/leeds-city-...     4.9  \n"
     ]
    }
   ],
   "source": [
    "from sqlalchemy import create_engine\n",
    "import pandas as pd\n",
    "\n",
    "DATABASE_TYPE = 'postgresql'\n",
    "DBAPI = 'psycopg2'\n",
    "HOST = 'localhost'\n",
    "USER = 'postgres'\n",
    "PASSWORD = 'FzA2609042102Ege'\n",
    "DATABASE = 'DeliverooScrape'\n",
    "PORT = 5432\n",
    "\n",
    "df = pd.read_json('data/LS12 5NJ/data.json')\n",
    "df.columns = ['tags', 'name', 'image_path','uuid', 'url', 'rating']\n",
    "print(df)\n",
    "\n",
    "engine = create_engine(f\"{DATABASE_TYPE}+{DBAPI}://{USER}:{PASSWORD}@{HOST}:{PORT}/{DATABASE}\")\n",
    "df.to_sql('deliveroo_data',engine, if_exists='replace')\n"
   ]
  },
  {
   "cell_type": "markdown",
   "metadata": {},
   "source": [
    "## Whitelist integration "
   ]
  },
  {
   "cell_type": "code",
   "execution_count": 28,
   "metadata": {},
   "outputs": [
    {
     "name": "stdout",
     "output_type": "stream",
     "text": [
      "['turkish', 'indian', 'italian', 'healthy']\n",
      "['indian', 'italian']\n",
      "['hungry']\n",
      "True\n"
     ]
    }
   ],
   "source": [
    "import json\n",
    "\n",
    "testlist = ['hungry', 'indian', 'italian','address is this']\n",
    "tagslist = ['turkish', 'indian', 'italian', 'healthy']\n",
    "\n",
    "with open(\"tags.json\", 'w') as tags:\n",
    "    json.dump(tagslist,tags, indent=2)\n",
    "    tags.close()\n",
    "\n",
    "with open(\"tags.json\",'r') as tags:\n",
    "    whitelist = json.load(tags)\n",
    "    print(whitelist)\n",
    "\n",
    "    listcomp = [strings for strings in testlist if strings in whitelist]\n",
    "    excess = [strings for strings in testlist if strings not in whitelist and ' ' not in strings]\n",
    "    tags.close()\n",
    "\n",
    "with open(\"excess_tags.json\", 'a') as excess_tags:\n",
    "    json.dump(excess,excess_tags,indent=2)\n",
    "\n",
    "print(listcomp)\n",
    "print(excess)"
   ]
  },
  {
   "cell_type": "markdown",
   "metadata": {},
   "source": [
    "## Dataclasses"
   ]
  },
  {
   "cell_type": "code",
   "execution_count": 9,
   "metadata": {},
   "outputs": [
    {
     "name": "stdout",
     "output_type": "stream",
     "text": [
      "140145460600448\n"
     ]
    }
   ],
   "source": [
    "from dataclasses import dataclass\n",
    "\n",
    "@dataclass\n",
    "class Dataclass:\n",
    "    names: str\n",
    "    job: str\n",
    "    age: int\n",
    "\n",
    "person1 = Dataclass(\"Geralt\", \"Witcher\", 25)\n",
    "person2 = Dataclass(\"Yennefer\", \"Sorceress\", 25)\n",
    "\n",
    "print(id(person1))"
   ]
  },
  {
   "cell_type": "code",
   "execution_count": null,
   "metadata": {},
   "outputs": [],
   "source": []
  }
 ],
 "metadata": {
  "interpreter": {
   "hash": "3ee29c714df3265524192047a9c1ed88540f892048242636a710e8ef53fb505b"
  },
  "kernelspec": {
   "display_name": "Python 3.9.7 64-bit ('base': conda)",
   "language": "python",
   "name": "python3"
  },
  "language_info": {
   "codemirror_mode": {
    "name": "ipython",
    "version": 3
   },
   "file_extension": ".py",
   "mimetype": "text/x-python",
   "name": "python",
   "nbconvert_exporter": "python",
   "pygments_lexer": "ipython3",
   "version": "3.9.7"
  },
  "orig_nbformat": 4
 },
 "nbformat": 4,
 "nbformat_minor": 2
}
